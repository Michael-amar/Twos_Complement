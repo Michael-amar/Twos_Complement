{
 "cells": [
  {
   "attachments": {},
   "cell_type": "markdown",
   "metadata": {},
   "source": [
    "This notebook demonstrates how we compute the auc, how to calculate the auc/accuracy gain, and how to plot the roc curves of the EM/Power and multimodal models"
   ]
  },
  {
   "attachments": {},
   "cell_type": "markdown",
   "metadata": {},
   "source": [
    "# Imports"
   ]
  },
  {
   "cell_type": "code",
   "execution_count": 1,
   "metadata": {},
   "outputs": [],
   "source": [
    "import os\n",
    "os.environ['TF_CPP_MIN_LOG_LEVEL'] = '2' # surpress warning and info messages\n",
    "import matplotlib.pyplot as plt\n",
    "from tensorflow.keras.regularizers import L2 as l2\n",
    "from tensorflow.keras.layers import Dense, Layer, Reshape, Flatten, Dot, Softmax, concatenate\n",
    "from sklearn.metrics import roc_curve,roc_auc_score\n",
    "import tensorflow as tf\n",
    "from os.path import *\n",
    "import pandas as pd\n",
    "import numpy as np\n",
    "import argparse\n",
    "import json\n",
    "import glob\n",
    "import sys\n",
    "\n",
    "sys.path.append('../Model')\n",
    "sys.path.append('../DataGenerators')\n",
    "from base_model import build_transformer\n",
    "from fusion_data_generator import FusionDataGenerator\n",
    "from data_generator import DataGenerator"
   ]
  },
  {
   "attachments": {},
   "cell_type": "markdown",
   "metadata": {},
   "source": [
    "# Function Definitions"
   ]
  },
  {
   "cell_type": "code",
   "execution_count": 2,
   "metadata": {},
   "outputs": [],
   "source": [
    "# our way to compute auc is a little different than the classic:\n",
    "def compute_auc(test_probas, attack_probas):\n",
    "\n",
    "    # max confidence of each test sample\n",
    "    test_max_conf = np.max(test_probas, axis=1)\n",
    "    \n",
    "    # max condifdence in each attack sample\n",
    "    attacks_max_conf = np.max(attack_probas, axis=1)\n",
    "    \n",
    "    # the probability of an attack is 1- (the probability of the max class), now this is binary\n",
    "    new_attacks_probas = 1 - attacks_max_conf\n",
    "    new_test_probas = 1 - test_max_conf\n",
    "\n",
    "    y_pred = np.concatenate((new_test_probas, new_attacks_probas))\n",
    "    y_true = ([0] * len(new_test_probas)) + ([1] * len(new_attacks_probas))\n",
    "\n",
    "    fpr, tpr, thresholds = roc_curve(y_true, y_pred)\n",
    "    auc = roc_auc_score(y_true, y_pred)\n",
    "    return fpr, tpr, auc\n",
    "\n",
    "\n",
    "class CrossAttentionLayer(Layer):\n",
    "    def __init__(self, **kwargs):\n",
    "        super(CrossAttentionLayer, self).__init__(**kwargs)\n",
    "        \n",
    "    def build(self, input_shape):\n",
    "        super(CrossAttentionLayer, self).build(input_shape)\n",
    "        \n",
    "    def call(self, inputs):\n",
    "        embedding_1, embedding_2 = inputs\n",
    "        \n",
    "        # Calculate attention weights\n",
    "        attention_weights = Dot(axes=-1, normalize=True)([embedding_2, embedding_1])\n",
    "        attention_weights = Softmax()(attention_weights)\n",
    "        \n",
    "        # Apply attention weights to embedding_1\n",
    "        attended_embedding_1 = Dot(axes=1)([attention_weights, embedding_1])\n",
    "        \n",
    "        return attended_embedding_1\n",
    "    \n",
    "    def compute_output_shape(self, input_shape):\n",
    "        return input_shape[0]\n",
    "\n",
    "def get_running_times(root):\n",
    "    with open(f'{root}POWER/metadata.json', 'r') as f: # the running time of both datasets are identical\n",
    "        metadata = json.load(f)\n",
    "        max =  metadata['max_running_time']\n",
    "        min =  metadata['min_running_time']\n",
    "        return max,min\n",
    "\n",
    "# builds a dataframe with the path and class of each sample for the multimodal\n",
    "def get_samples_multimodal(root, attacks=False):\n",
    "    samples_df = pd.DataFrame(columns=[\"EM_path\", \"POWER_path\",\"class\", \"numeric_class\"])\n",
    "    power_samples_path = []\n",
    "    em_samples_path = []\n",
    "    samples_class = []\n",
    "\n",
    "    for filename in glob.iglob(f'{root}**/*.npy', recursive=True):\n",
    "        clas = basename(dirname(filename)) # folder name is the name of the class\n",
    "        power_sample_path = filename\n",
    "        power_samples_path.append(power_sample_path)\n",
    "        em_samples_path.append(power_sample_path.replace(\"POWER\",\"EM\"))\n",
    "        samples_class.append(clas)\n",
    "\n",
    "    samples_df[\"POWER_path\"] = power_samples_path\n",
    "    samples_df[\"EM_path\"] = em_samples_path\n",
    "    samples_df[\"class\"] = samples_class\n",
    "\n",
    "    unique_classes = samples_df[\"class\"].copy().drop_duplicates().sort_values(ignore_index=True)\n",
    "    samples_df['numeric_class'] = samples_df['class'].apply(lambda class_name: unique_classes[unique_classes == class_name].index[0])\n",
    "    \n",
    "    return samples_df, unique_classes\n",
    "\n",
    "def get_multimodal(power_shape, em_shape, n_classes):\n",
    "    power_inputs, power_embeddings = build_transformer(power_shape)\n",
    "    em_inputs, em_embeddings = build_transformer(em_shape)\n",
    "\n",
    "    power_embeddings = Reshape(target_shape=(1,128))(power_embeddings)\n",
    "    em_embeddings = Reshape(target_shape=(1,128))(em_embeddings)\n",
    "    attended1 = CrossAttentionLayer()([power_embeddings, em_embeddings])\n",
    "    attended2 = CrossAttentionLayer()([em_embeddings, power_embeddings])\n",
    "    fused_embeddings = concatenate([attended1,attended2])\n",
    "    flat = Flatten()(fused_embeddings)\n",
    "    final_output = Dense(n_classes, activation='sigmoid', kernel_regularizer=l2(0.0005))(flat)\n",
    "    \n",
    "    model = tf.keras.Model([power_inputs, em_inputs], final_output)\n",
    "    model.compile(optimizer=\"Adam\", loss=\"categorical_crossentropy\", metrics=['accuracy'])\n",
    "    # print(model.summary())\n",
    "    return model\n",
    "\n",
    "# builds a dataframe with the path and class of each sample for the unimodals\n",
    "def get_samples_unimodal(root):\n",
    "    samples_df = pd.DataFrame(columns=[\"path\", \"class\", \"numeric_class\"])\n",
    "    samples_path = []\n",
    "    samples_class = []\n",
    "\n",
    "    for filename in glob.iglob(root + '**/*.npy', recursive=True):\n",
    "        clas = basename(dirname(filename)) # folder name is the name of the class\n",
    "        samples_path.append(filename)\n",
    "        samples_class.append(clas)\n",
    "\n",
    "    samples_df[\"path\"] = samples_path\n",
    "    samples_df[\"class\"] = samples_class\n",
    "\n",
    "    unique_classes = samples_df[\"class\"].copy().drop_duplicates().sort_values(ignore_index=True)\n",
    "    samples_df['numeric_class'] = samples_df['class'].apply(lambda class_name: unique_classes[unique_classes == class_name].index[0])\n",
    "\n",
    "    return samples_df, unique_classes\n",
    "\n",
    "def get_unimodal(input_shape, n_classes):\n",
    "    inputs, intermediate_outputs = build_transformer(input_shape)\n",
    "    probs = Dense(n_classes, activation='sigmoid', kernel_regularizer=l2(0.0005))(intermediate_outputs)\n",
    "    model =  tf.keras.Model(inputs, probs)\n",
    "    \n",
    "    model.compile(loss=\"categorical_crossentropy\", optimizer=\"Adam\", metrics=[\"accuracy\"])\n",
    "    # print(model.summary())\n",
    "    return model"
   ]
  },
  {
   "attachments": {},
   "cell_type": "markdown",
   "metadata": {},
   "source": [
    "# Test the EM model"
   ]
  },
  {
   "cell_type": "code",
   "execution_count": 3,
   "metadata": {},
   "outputs": [
    {
     "name": "stdout",
     "output_type": "stream",
     "text": [
      "600/600 [==============================] - 28s 45ms/step\n",
      "900/900 [==============================] - 33s 37ms/step\n"
     ]
    }
   ],
   "source": [
    "dataset_path = \"../testset/\"\n",
    "n_classes = 24\n",
    "max_running_time, min_running_time = get_running_times(dataset_path)\n",
    "em_noise_strength = 5\n",
    "\n",
    "em_samples_df, _ = get_samples_unimodal(f'{dataset_path}EM/') # benign samples\n",
    "em_attacks_samples_df, classes_df = get_samples_unimodal(f'{dataset_path}EM/.attacks/') # attack samples\n",
    "\n",
    "# create generators\n",
    "em_test_generator = DataGenerator(em_samples_df , n_classes=n_classes, max_running_time=max_running_time, min_running_time=min_running_time, win_size=3, sampling_rate=56000000, sigma=em_noise_strength)\n",
    "em_attacks_generator = DataGenerator(em_attacks_samples_df , n_classes=len(classes_df.index), max_running_time=max_running_time, min_running_time=min_running_time, win_size=3, sampling_rate=56000000, sigma=em_noise_strength)\n",
    "em_input_shape = em_test_generator.get_shape()\n",
    "\n",
    "# load model\n",
    "em_model = get_unimodal(em_input_shape, n_classes)\n",
    "em_model.load_weights(f\"../trained_models/single_channel/em_noise_{em_noise_strength}.hdf5\")\n",
    "\n",
    "# test\n",
    "em_test_probas = em_model.predict(em_test_generator, verbose=1)\n",
    "em_attacks_probas = em_model.predict(em_attacks_generator, verbose=1)\n",
    "\n",
    "# compute auc/accuracy\n",
    "fpr_em, tpr_em, auc_em = compute_auc(em_test_probas, em_attacks_probas)\n",
    "\n",
    "y_pred_em = np.argmax(em_test_probas, axis=1)\n",
    "y_true_em = em_test_generator.y_true\n",
    "accuracy_em = sum(y_pred_em == y_true_em) / len(y_true_em)"
   ]
  },
  {
   "attachments": {},
   "cell_type": "markdown",
   "metadata": {},
   "source": [
    "# Test the Power model"
   ]
  },
  {
   "cell_type": "code",
   "execution_count": 4,
   "metadata": {},
   "outputs": [
    {
     "name": "stdout",
     "output_type": "stream",
     "text": [
      "600/600 [==============================] - 31s 51ms/step\n",
      "900/900 [==============================] - 50s 56ms/step\n"
     ]
    }
   ],
   "source": [
    "dataset_path = \"../testset/\"\n",
    "n_classes = 24\n",
    "max_running_time, min_running_time = get_running_times(dataset_path)\n",
    "power_noise_strength = 13\n",
    "\n",
    "power_samples_df, _ = get_samples_unimodal(f'{dataset_path}POWER/') # benign samples\n",
    "power_attacks_samples_df, classes_df = get_samples_unimodal(f'{dataset_path}POWER/.attacks/') # attack samples\n",
    "\n",
    "# create generators\n",
    "power_test_generator = DataGenerator(power_samples_df , n_classes=n_classes, max_running_time=max_running_time, min_running_time=min_running_time, win_size=30, sampling_rate=1000000000, sigma=power_noise_strength)\n",
    "power_attacks_generator = DataGenerator(power_attacks_samples_df , n_classes=len(classes_df.index), max_running_time=max_running_time, min_running_time=min_running_time, win_size=30, sampling_rate=1000000000, sigma=power_noise_strength)\n",
    "power_input_shape = power_test_generator.get_shape()\n",
    "\n",
    "# load model\n",
    "power_model = get_unimodal(power_input_shape, n_classes)\n",
    "power_model.load_weights(f\"../trained_models/single_channel/power_noise_{power_noise_strength}.hdf5\")\n",
    "\n",
    "# test\n",
    "power_test_probas = power_model.predict(power_test_generator, verbose=1)\n",
    "power_attacks_probas = power_model.predict(power_attacks_generator, verbose=1)\n",
    "\n",
    "# compute auc/accuracy\n",
    "fpr_power, tpr_power, auc_power = compute_auc(power_test_probas, power_attacks_probas)\n",
    "\n",
    "y_pred_power = np.argmax(power_test_probas, axis=1)\n",
    "y_true_power = power_test_generator.y_true\n",
    "accuracy_power = sum(y_pred_power == y_true_power) / len(y_true_power)"
   ]
  },
  {
   "attachments": {},
   "cell_type": "markdown",
   "metadata": {},
   "source": [
    "# Test the multimodal"
   ]
  },
  {
   "cell_type": "code",
   "execution_count": 5,
   "metadata": {},
   "outputs": [
    {
     "name": "stdout",
     "output_type": "stream",
     "text": [
      "600/600 [==============================] - 58s 95ms/step\n",
      "900/900 [==============================] - 70s 77ms/step\n"
     ]
    }
   ],
   "source": [
    "dataset_path = \"../testset/\"\n",
    "n_classes = 24\n",
    "max_running_time, min_running_time = get_running_times(dataset_path)\n",
    "\n",
    "multimodal_samples_df, _ = get_samples_multimodal(f'{dataset_path}/POWER/')\n",
    "multimodal_attacks_samples_df, classes_df = get_samples_multimodal(f'{dataset_path}/POWER/.attacks/')\n",
    "\n",
    "# create generators\n",
    "multimodal_test_generator = FusionDataGenerator(multimodal_samples_df, mode='intermediate', n_classes=24, max_running_time=max_running_time, min_running_time=min_running_time, sampling_rate_power=1000000000, sampling_rate_em=56000000, overlapping_percentage=0.6, em_noise_sigma=em_noise_strength, power_noise_sigma=power_noise_strength)\n",
    "multimodal_attacks_generator = FusionDataGenerator(multimodal_attacks_samples_df, mode='intermediate', n_classes=len(classes_df.index), max_running_time=max_running_time, min_running_time=min_running_time, sampling_rate_power=1000000000, sampling_rate_em=56000000, overlapping_percentage=0.6, em_noise_sigma=em_noise_strength, power_noise_sigma=power_noise_strength)\n",
    "power_shape, em_shape = multimodal_test_generator.get_shape()\n",
    "\n",
    "# load model\n",
    "multimodal_model = get_multimodal(power_shape, em_shape, n_classes)\n",
    "multimodal_model.load_weights(f\"../trained_models/intermediate_integration/em_noise_{em_noise_strength}_power_noise_{power_noise_strength}.hdf5\")\n",
    "\n",
    "# test\n",
    "multimodal_test_probas = multimodal_model.predict(multimodal_test_generator, verbose=1)  \n",
    "multimodal_attacks_probas = multimodal_model.predict(multimodal_attacks_generator, verbose=1)\n",
    "\n",
    "# compute auc/accuracy\n",
    "fpr_multimodal, tpr_multimodal, auc_multimodal = compute_auc(multimodal_test_probas, multimodal_attacks_probas)\n",
    "\n",
    "y_pred_multimodal = np.argmax(multimodal_test_probas, axis=1)\n",
    "y_true_multimodal = multimodal_test_generator.y_true\n",
    "accuracy_multimodal = sum(y_pred_multimodal == y_true_multimodal) / len(y_true_multimodal)"
   ]
  },
  {
   "attachments": {},
   "cell_type": "markdown",
   "metadata": {},
   "source": [
    "# Accuracy/AUC gain"
   ]
  },
  {
   "cell_type": "code",
   "execution_count": 6,
   "metadata": {},
   "outputs": [
    {
     "name": "stdout",
     "output_type": "stream",
     "text": [
      "EM noise:5, POWER noise:13, AUC gain:0.0925234953703703, Accuracy Gain:0.17645833333333338\n"
     ]
    },
    {
     "data": {
      "image/png": "[encoded data removed]",
      "text/plain": [
       "<Figure size 640x480 with 1 Axes>"
      ]
     },
     "metadata": {},
     "output_type": "display_data"
    }
   ],
   "source": [
    "auc_gain = (auc_multimodal - max(auc_em, auc_power))\n",
    "accuracy_gain = (accuracy_multimodal - max(accuracy_em, accuracy_power))\n",
    "print(f\"EM noise:{em_noise_strength}, POWER noise:{power_noise_strength}, AUC gain:{auc_gain}, Accuracy Gain:{accuracy_gain}\")\n",
    "\n",
    "plt.figure()\n",
    "plt.plot(fpr_em, tpr_em, color='darkorange', linestyle='dotted', label=f'EM based model')\n",
    "plt.plot(fpr_power, tpr_power, color='green', linestyle='dashed', label=f'Power based model')\n",
    "plt.plot(fpr_multimodal, tpr_multimodal, color='red', linestyle='solid', label=f'Multimodal model')\n",
    "plt.xlim([0.0, 1.0])\n",
    "plt.ylim([0.0, 1.05])\n",
    "plt.xlabel('False Positive Rate', fontsize=14)\n",
    "plt.ylabel('True Positive Rate', fontsize=14)\n",
    "plt.legend(loc='lower right', fontsize=14);"
   ]
  }
 ],
 "metadata": {
  "kernelspec": {
   "display_name": "testenv99",
   "language": "python",
   "name": "python3"
  },
  "language_info": {
   "codemirror_mode": {
    "name": "ipython",
    "version": 3
   },
   "file_extension": ".py",
   "mimetype": "text/x-python",
   "name": "python",
   "nbconvert_exporter": "python",
   "pygments_lexer": "ipython3",
   "version": "3.8.15"
  },
  "orig_nbformat": 4
 },
 "nbformat": 4,
 "nbformat_minor": 2
}
