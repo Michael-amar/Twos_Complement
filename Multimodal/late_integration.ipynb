{
 "cells": [
  {
   "cell_type": "code",
   "execution_count": 4,
   "metadata": {},
   "outputs": [],
   "source": [
    "import os\n",
    "os.environ['TF_CPP_MIN_LOG_LEVEL'] = '2' # surpress warning and info messages\n",
    "import matplotlib.pyplot as plt\n",
    "import tensorflow as tf\n",
    "from os.path import *\n",
    "import pandas as pd\n",
    "import numpy as np\n",
    "import json\n",
    "import glob\n",
    "import sys\n",
    "\n",
    "sys.path.append('../Model')\n",
    "sys.path.append('../DataGenerators')\n",
    "from data_generator import DataGenerator"
   ]
  },
  {
   "cell_type": "code",
   "execution_count": 5,
   "metadata": {},
   "outputs": [],
   "source": [
    "def get_running_times(root):\n",
    "    with open(f'{root}POWER/metadata.json', 'r') as f: # the running time of both datasets are identical\n",
    "        metadata = json.load(f)\n",
    "        max =  metadata['max_running_time']\n",
    "        min =  metadata['min_running_time']\n",
    "        return max,min\n",
    "\n",
    "# builds a dataframe with the path and class of each sample\n",
    "def get_samples(root):\n",
    "    samples_df = pd.DataFrame(columns=[\"path\", \"class\", \"numeric_class\"])\n",
    "    samples_path = []\n",
    "    samples_class = []\n",
    "\n",
    "    for filename in glob.iglob(root + '**/*.npy', recursive=True):\n",
    "        clas = basename(dirname(filename)) # folder name is the name of the class\n",
    "        samples_path.append(filename)\n",
    "        samples_class.append(clas)\n",
    "\n",
    "    samples_df[\"path\"] = samples_path\n",
    "    samples_df[\"class\"] = samples_class\n",
    "\n",
    "    unique_classes = samples_df[\"class\"].copy().drop_duplicates().sort_values(ignore_index=True)\n",
    "    samples_df['numeric_class'] = samples_df['class'].apply(lambda class_name: unique_classes[unique_classes == class_name].index[0])\n",
    "\n",
    "    return samples_df, unique_classes\n",
    "    "
   ]
  },
  {
   "cell_type": "code",
   "execution_count": null,
   "metadata": {},
   "outputs": [],
   "source": [
    "accuracies = []\n",
    "dataset_path = \"../testset/\"\n",
    "n_classes = 24\n",
    "noise_strength = 0\n",
    "\n",
    "max_running_time, min_running_time = get_running_times(dataset_path)\n",
    "\n",
    "em_samples_df, _ = get_samples(f'{dataset_path}EM/')\n",
    "power_samples_df, _ = get_samples(f'{dataset_path}POWER/')\n",
    "\n",
    "for noise_strength in range(0,21):\n",
    "    em_test_generator = DataGenerator(em_samples_df , n_classes=n_classes, max_running_time=max_running_time, min_running_time=min_running_time, win_size=3, sampling_rate=56000000, sigma=noise_strength)\n",
    "    power_test_generator = DataGenerator(power_samples_df , n_classes=n_classes, max_running_time=max_running_time, min_running_time=min_running_time, win_size=30, sampling_rate=1000000000, sigma=noise_strength)\n",
    "\n",
    "    # load models\n",
    "    em_model = tf.keras.models.load_model(f\"../trained_models/single_channel/em_{noise_strength}\")\n",
    "    power_model = tf.keras.models.load_model(f\"../trained_models/single_channel/power_{noise_strength}\")\n",
    "\n",
    "    # predict\n",
    "    em_test_probas = em_model.predict(em_test_generator, verbose=1)\n",
    "    power_test_probas = power_model.predict(power_test_generator, verbose=1)\n",
    "\n",
    "    # order of the samples is the same in the test generators so this is legal\n",
    "    output_vector = ((em_test_probas + power_test_probas)/2)\n",
    "\n",
    "    y_pred = np.argmax(output_vector, axis=1)\n",
    "    y_true = em_test_generator.y_true\n",
    "\n",
    "    accuracy = sum(y_pred == y_true) / len(y_true)\n",
    "    accuracies.append(accuracy)\n",
    "    print(f\"Noise: {noise_strength}, Accuracy: {accuracy}\")"
   ]
  },
  {
   "cell_type": "code",
   "execution_count": 7,
   "metadata": {},
   "outputs": [
    {
     "data": {
      "image/png": "[encoded data removed]",
      "text/plain": [
       "<Figure size 432x288 with 1 Axes>"
      ]
     },
     "metadata": {
      "needs_background": "light"
     },
     "output_type": "display_data"
    }
   ],
   "source": [
    "plt.plot(range(0,21), accuracies)\n",
    "plt.title(\"Late Integration\")\n",
    "plt.xlabel(f'Noise Sigma (\\u03c3)')\n",
    "plt.ylabel('Accuracy')\n",
    "plt.ylim([0,1])\n",
    "plt.show()"
   ]
  }
 ],
 "metadata": {
  "kernelspec": {
   "display_name": "tf",
   "language": "python",
   "name": "python3"
  },
  "language_info": {
   "codemirror_mode": {
    "name": "ipython",
    "version": 3
   },
   "file_extension": ".py",
   "mimetype": "text/x-python",
   "name": "python",
   "nbconvert_exporter": "python",
   "pygments_lexer": "ipython3",
   "version": "3.8.15"
  },
  "orig_nbformat": 4
 },
 "nbformat": 4,
 "nbformat_minor": 2
}
